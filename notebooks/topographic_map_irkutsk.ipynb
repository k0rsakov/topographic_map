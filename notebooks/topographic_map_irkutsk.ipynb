{
 "cells": [
  {
   "cell_type": "code",
   "execution_count": 23,
   "id": "22f250cd-f37f-4de7-bee2-2ffc84669fbe",
   "metadata": {},
   "outputs": [
    {
     "name": "stdout",
     "output_type": "stream",
     "text": [
      "CGN Airport elevation (meters): 423\n"
     ]
    }
   ],
   "source": [
    "import srtm\n",
    "elevation_data = srtm.get_data()\n",
    "print('CGN Airport elevation (meters):', elevation_data.get_elevation(52.274269, 104.274618))"
   ]
  },
  {
   "cell_type": "code",
   "execution_count": 24,
   "id": "a567a5c8-95ea-4458-a1fc-5d849fb125a3",
   "metadata": {},
   "outputs": [],
   "source": [
    "# импортируем библиотеку numpy и pandas\n",
    "import pandas as pd\n",
    "import numpy as np"
   ]
  },
  {
   "cell_type": "code",
   "execution_count": 25,
   "id": "be4e282d-c7af-4ec1-bc54-2f50dedb8c3d",
   "metadata": {},
   "outputs": [],
   "source": [
    "# импортируем библиотеку для работы с картами\n",
    "from keplergl import KeplerGl"
   ]
  },
  {
   "cell_type": "code",
   "execution_count": null,
   "id": "59fce8ae-b506-4b2f-b4f9-aaaeb6f8752b",
   "metadata": {},
   "outputs": [],
   "source": [
    "52.282160, 104.270928\n",
    "52.282186, 104.271078"
   ]
  },
  {
   "cell_type": "code",
   "execution_count": null,
   "id": "6dd10945-626e-46a6-adab-11f9f5e4b468",
   "metadata": {},
   "outputs": [],
   "source": []
  },
  {
   "cell_type": "code",
   "execution_count": null,
   "id": "53eeaeea-90ed-4a0b-9466-896b3f122816",
   "metadata": {},
   "outputs": [],
   "source": []
  },
  {
   "cell_type": "code",
   "execution_count": 39,
   "id": "41cd4d91-a41f-4ceb-9a6f-7bdff59a1166",
   "metadata": {},
   "outputs": [],
   "source": [
    "up_left = [52.446093, 103.964495]\n",
    "up_right = [52.503478, 104.590832]\n",
    "\n",
    "down_left = [52.013882, 103.995892]\n",
    "down_right = [52.136033, 104.802521]"
   ]
  },
  {
   "cell_type": "code",
   "execution_count": null,
   "id": "09bf95d1-2e49-4326-9ea6-44652b5d3ab5",
   "metadata": {},
   "outputs": [],
   "source": [
    "Координаты: [ [ [ 52.4894, 103.878 ], [ 52.0140, 103.900 ], [ 52.0343, 104.724 ], [ 52.5044, 104.707 ], [ 52.4894, 103.878 ] ] ]"
   ]
  },
  {
   "cell_type": "code",
   "execution_count": 40,
   "id": "6859ac75-8a05-4d3d-98da-e9fcd14984a3",
   "metadata": {},
   "outputs": [
    {
     "data": {
      "text/plain": [
       "52.446093"
      ]
     },
     "execution_count": 40,
     "metadata": {},
     "output_type": "execute_result"
    }
   ],
   "source": [
    "up_left[0]"
   ]
  },
  {
   "cell_type": "code",
   "execution_count": 43,
   "id": "7b66b262-dfd9-41bc-8cdd-9bf6b7673d83",
   "metadata": {},
   "outputs": [],
   "source": [
    "coordinates = []"
   ]
  },
  {
   "cell_type": "code",
   "execution_count": 44,
   "id": "e266bcb7-3b21-42c6-985d-b3c3e03dde0e",
   "metadata": {},
   "outputs": [],
   "source": [
    "coordinates.append(up_left)\n",
    "coordinates.append(up_right)\n",
    "coordinates.append(down_left)\n",
    "coordinates.append(down_right)"
   ]
  },
  {
   "cell_type": "code",
   "execution_count": 45,
   "id": "edd6332d-3f85-4699-8594-339273f70786",
   "metadata": {},
   "outputs": [
    {
     "data": {
      "text/plain": [
       "[[52.446093, 103.964495],\n",
       " [52.503478, 104.590832],\n",
       " [52.013882, 103.995892],\n",
       " [52.136033, 104.802521]]"
      ]
     },
     "execution_count": 45,
     "metadata": {},
     "output_type": "execute_result"
    }
   ],
   "source": [
    "coordinates"
   ]
  },
  {
   "cell_type": "code",
   "execution_count": 46,
   "id": "98142cc1-790c-4946-986d-4817f04f00bf",
   "metadata": {},
   "outputs": [
    {
     "data": {
      "text/html": [
       "<div>\n",
       "<style scoped>\n",
       "    .dataframe tbody tr th:only-of-type {\n",
       "        vertical-align: middle;\n",
       "    }\n",
       "\n",
       "    .dataframe tbody tr th {\n",
       "        vertical-align: top;\n",
       "    }\n",
       "\n",
       "    .dataframe thead th {\n",
       "        text-align: right;\n",
       "    }\n",
       "</style>\n",
       "<table border=\"1\" class=\"dataframe\">\n",
       "  <thead>\n",
       "    <tr style=\"text-align: right;\">\n",
       "      <th></th>\n",
       "      <th>0</th>\n",
       "      <th>1</th>\n",
       "    </tr>\n",
       "  </thead>\n",
       "  <tbody>\n",
       "    <tr>\n",
       "      <th>0</th>\n",
       "      <td>52.446093</td>\n",
       "      <td>103.964495</td>\n",
       "    </tr>\n",
       "    <tr>\n",
       "      <th>1</th>\n",
       "      <td>52.503478</td>\n",
       "      <td>104.590832</td>\n",
       "    </tr>\n",
       "    <tr>\n",
       "      <th>2</th>\n",
       "      <td>52.013882</td>\n",
       "      <td>103.995892</td>\n",
       "    </tr>\n",
       "    <tr>\n",
       "      <th>3</th>\n",
       "      <td>52.136033</td>\n",
       "      <td>104.802521</td>\n",
       "    </tr>\n",
       "  </tbody>\n",
       "</table>\n",
       "</div>"
      ],
      "text/plain": [
       "           0           1\n",
       "0  52.446093  103.964495\n",
       "1  52.503478  104.590832\n",
       "2  52.013882  103.995892\n",
       "3  52.136033  104.802521"
      ]
     },
     "execution_count": 46,
     "metadata": {},
     "output_type": "execute_result"
    }
   ],
   "source": [
    "df = pd.DataFrame(coordinates)\n",
    "df"
   ]
  },
  {
   "cell_type": "code",
   "execution_count": 47,
   "id": "99f91cde-ec72-4dc0-acf5-14a98082e3c1",
   "metadata": {},
   "outputs": [],
   "source": [
    "df.to_csv('rectangle_irk.csv', index = False)"
   ]
  },
  {
   "cell_type": "code",
   "execution_count": null,
   "id": "11de9417-8bf1-4acc-9d6a-0c5c6cc48590",
   "metadata": {},
   "outputs": [],
   "source": []
  }
 ],
 "metadata": {
  "kernelspec": {
   "display_name": "Python 3 (ipykernel)",
   "language": "python",
   "name": "python3"
  },
  "language_info": {
   "codemirror_mode": {
    "name": "ipython",
    "version": 3
   },
   "file_extension": ".py",
   "mimetype": "text/x-python",
   "name": "python",
   "nbconvert_exporter": "python",
   "pygments_lexer": "ipython3",
   "version": "3.9.7"
  }
 },
 "nbformat": 4,
 "nbformat_minor": 5
}
