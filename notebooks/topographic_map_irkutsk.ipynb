{
 "cells": [
  {
   "cell_type": "markdown",
   "id": "e6dffb89-e0de-4095-8796-3d78bcdba132",
   "metadata": {},
   "source": [
    "# Импорт библиотек"
   ]
  },
  {
   "cell_type": "code",
   "execution_count": 1,
   "id": "22f250cd-f37f-4de7-bee2-2ffc84669fbe",
   "metadata": {},
   "outputs": [],
   "source": [
    "# Импорт библиотеки для работы с json-файлами\n",
    "import json\n",
    "\n",
    "# импортируем библиотеку numpy и pandas\n",
    "import pandas as pd\n",
    "import numpy as np\n",
    "\n",
    "# импортируем библиотеку для работы с картами\n",
    "from keplergl import KeplerGl\n",
    "\n",
    "# импортируем библиотеку для вычисление высоты\n",
    "import srtm"
   ]
  },
  {
   "cell_type": "code",
   "execution_count": 2,
   "id": "104eb35c-51ed-433b-8329-2e334447dce9",
   "metadata": {},
   "outputs": [],
   "source": [
    "# Использовать для вычисления высоты \n",
    "# elevation_data = srtm.get_data()\n",
    "# print('CGN Airport elevation (meters):', elevation_data.get_elevation(52.274269, 104.274618))"
   ]
  },
  {
   "cell_type": "markdown",
   "id": "c4dfe99f-cc48-4d15-87e6-5a2fc8a1b5c9",
   "metadata": {},
   "source": [
    "## Шпаргалка\n",
    "\n",
    "<img src=\"https://ночная.москва/wp-content/uploads/2021/03/geograficheskie-koordinaty-moskvy-rossiya.png\" width=\"50%\" height=\"50%\">"
   ]
  },
  {
   "cell_type": "markdown",
   "id": "4ffe9bca-b71c-471b-a02f-8e2cf4ba6a91",
   "metadata": {},
   "source": [
    "## Координаты вершин полигона г. Иркутск"
   ]
  },
  {
   "cell_type": "code",
   "execution_count": 3,
   "id": "41cd4d91-a41f-4ceb-9a6f-7bdff59a1166",
   "metadata": {},
   "outputs": [],
   "source": [
    "# Границы полигона Иркутска\n",
    "up_left = [52.446093, 103.964495]\n",
    "up_right = [52.446093, 104.802521]\n",
    "\n",
    "down_left = [52.013882, 103.964495]\n",
    "down_right = [52.013882, 104.802521]"
   ]
  },
  {
   "cell_type": "markdown",
   "id": "e38ee841-6e81-4009-bdc1-e9178f8ba051",
   "metadata": {},
   "source": [
    "### Создание `pd.DataFrame` - полигона г. Иркутск "
   ]
  },
  {
   "cell_type": "code",
   "execution_count": 4,
   "id": "a31bfc2c-00fd-47eb-a765-bf3a94e35765",
   "metadata": {},
   "outputs": [
    {
     "data": {
      "text/html": [
       "<div>\n",
       "<style scoped>\n",
       "    .dataframe tbody tr th:only-of-type {\n",
       "        vertical-align: middle;\n",
       "    }\n",
       "\n",
       "    .dataframe tbody tr th {\n",
       "        vertical-align: top;\n",
       "    }\n",
       "\n",
       "    .dataframe thead th {\n",
       "        text-align: right;\n",
       "    }\n",
       "</style>\n",
       "<table border=\"1\" class=\"dataframe\">\n",
       "  <thead>\n",
       "    <tr style=\"text-align: right;\">\n",
       "      <th></th>\n",
       "      <th>latitude</th>\n",
       "      <th>longitude</th>\n",
       "    </tr>\n",
       "  </thead>\n",
       "  <tbody>\n",
       "    <tr>\n",
       "      <th>0</th>\n",
       "      <td>52.446093</td>\n",
       "      <td>103.964495</td>\n",
       "    </tr>\n",
       "    <tr>\n",
       "      <th>1</th>\n",
       "      <td>52.446093</td>\n",
       "      <td>104.802521</td>\n",
       "    </tr>\n",
       "    <tr>\n",
       "      <th>2</th>\n",
       "      <td>52.013882</td>\n",
       "      <td>103.964495</td>\n",
       "    </tr>\n",
       "    <tr>\n",
       "      <th>3</th>\n",
       "      <td>52.013882</td>\n",
       "      <td>104.802521</td>\n",
       "    </tr>\n",
       "  </tbody>\n",
       "</table>\n",
       "</div>"
      ],
      "text/plain": [
       "    latitude   longitude\n",
       "0  52.446093  103.964495\n",
       "1  52.446093  104.802521\n",
       "2  52.013882  103.964495\n",
       "3  52.013882  104.802521"
      ]
     },
     "execution_count": 4,
     "metadata": {},
     "output_type": "execute_result"
    }
   ],
   "source": [
    "coordinates = []\n",
    "\n",
    "coordinates.append(up_left)\n",
    "coordinates.append(up_right)\n",
    "coordinates.append(down_left)\n",
    "coordinates.append(down_right)\n",
    "\n",
    "headers = ['latitude', 'longitude']\n",
    "\n",
    "df_coordinates = pd.DataFrame(coordinates, columns = headers)\n",
    "df_coordinates"
   ]
  },
  {
   "cell_type": "markdown",
   "id": "fd7acc0e-61d2-4769-9f82-4e20077580a9",
   "metadata": {},
   "source": [
    "## Генерация множества координат"
   ]
  },
  {
   "cell_type": "code",
   "execution_count": 5,
   "id": "13be9432-de52-4556-ba71-38697110b522",
   "metadata": {},
   "outputs": [],
   "source": [
    "generated_list_of_latitude = np.arange(down_left[0], up_left[0], 0.001)\n",
    "\n",
    "generated_list_of_longitude = np.arange(up_left[1], up_right[1], 0.001)"
   ]
  },
  {
   "cell_type": "markdown",
   "id": "e4cb45ab-46cf-4a03-a612-aaaad0a77ea7",
   "metadata": {},
   "source": [
    "## Создание `pd.DataFrame` с \"заполнением\" полигона г. Иркутск"
   ]
  },
  {
   "cell_type": "code",
   "execution_count": 6,
   "id": "9f3451bf-aeee-44f1-a955-360630ed7ec9",
   "metadata": {},
   "outputs": [
    {
     "name": "stdout",
     "output_type": "stream",
     "text": [
      "CPU times: user 264 ms, sys: 24.3 ms, total: 288 ms\n",
      "Wall time: 288 ms\n"
     ]
    },
    {
     "data": {
      "text/plain": [
       "(363287, 2)"
      ]
     },
     "execution_count": 6,
     "metadata": {},
     "output_type": "execute_result"
    }
   ],
   "source": [
    "%%time\n",
    "\n",
    "# Создание пустого датафрейма\n",
    "df_append = pd.DataFrame()\n",
    "\n",
    "# Цикл по все показателям широты\n",
    "for lat in range(len(generated_list_of_latitude)):\n",
    "    # Создание словаря с данными. К каждой широте добавляется массив долготы\n",
    "    data = {\n",
    "        'latitude': generated_list_of_latitude[lat],\n",
    "        'longitude': generated_list_of_longitude\n",
    "    }\n",
    "    \n",
    "    df = pd.DataFrame(data)\n",
    "    \n",
    "    df_append = df_append.append(df)\n",
    "    \n",
    "df_append.shape"
   ]
  },
  {
   "cell_type": "markdown",
   "id": "5f8a8e45-c441-4451-9664-9765593d70c1",
   "metadata": {},
   "source": [
    "## Применение библиотеки для вычисления высоты по координатам"
   ]
  },
  {
   "cell_type": "code",
   "execution_count": 34,
   "id": "0bce4e2b-11da-4e76-b631-537caae04d7b",
   "metadata": {},
   "outputs": [
    {
     "data": {
      "text/html": [
       "<div>\n",
       "<style scoped>\n",
       "    .dataframe tbody tr th:only-of-type {\n",
       "        vertical-align: middle;\n",
       "    }\n",
       "\n",
       "    .dataframe tbody tr th {\n",
       "        vertical-align: top;\n",
       "    }\n",
       "\n",
       "    .dataframe thead th {\n",
       "        text-align: right;\n",
       "    }\n",
       "</style>\n",
       "<table border=\"1\" class=\"dataframe\">\n",
       "  <thead>\n",
       "    <tr style=\"text-align: right;\">\n",
       "      <th></th>\n",
       "      <th>latitude</th>\n",
       "      <th>longitude</th>\n",
       "    </tr>\n",
       "  </thead>\n",
       "  <tbody>\n",
       "    <tr>\n",
       "      <th>0</th>\n",
       "      <td>52.013882</td>\n",
       "      <td>103.964495</td>\n",
       "    </tr>\n",
       "    <tr>\n",
       "      <th>1</th>\n",
       "      <td>52.013882</td>\n",
       "      <td>103.965495</td>\n",
       "    </tr>\n",
       "    <tr>\n",
       "      <th>2</th>\n",
       "      <td>52.013882</td>\n",
       "      <td>103.966495</td>\n",
       "    </tr>\n",
       "    <tr>\n",
       "      <th>3</th>\n",
       "      <td>52.013882</td>\n",
       "      <td>103.967495</td>\n",
       "    </tr>\n",
       "    <tr>\n",
       "      <th>4</th>\n",
       "      <td>52.013882</td>\n",
       "      <td>103.968495</td>\n",
       "    </tr>\n",
       "  </tbody>\n",
       "</table>\n",
       "</div>"
      ],
      "text/plain": [
       "    latitude   longitude\n",
       "0  52.013882  103.964495\n",
       "1  52.013882  103.965495\n",
       "2  52.013882  103.966495\n",
       "3  52.013882  103.967495\n",
       "4  52.013882  103.968495"
      ]
     },
     "execution_count": 34,
     "metadata": {},
     "output_type": "execute_result"
    }
   ],
   "source": [
    "df_append.head()"
   ]
  },
  {
   "cell_type": "markdown",
   "id": "3e4bef95-6e1e-452e-b938-27acbee80b63",
   "metadata": {},
   "source": [
    "### Создание функции для определения высоты"
   ]
  },
  {
   "cell_type": "code",
   "execution_count": 21,
   "id": "2e194114-feed-4f6e-9f52-2535a6ea9106",
   "metadata": {},
   "outputs": [],
   "source": [
    "def altitude_determinant(lat: float, lon: float) -> int:\n",
    "    \"\"\"\n",
    "    Функция для определения высоты по координатам (широта, долгота)\n",
    "    \n",
    "    Принимает:\n",
    "    lat: float - широта\n",
    "    lon: float - долгота\n",
    "    \n",
    "    Возвращает:\n",
    "    altitude - высота\n",
    "    \"\"\"\n",
    "    elevation_data = srtm.get_data()\n",
    "    altitude = elevation_data.get_elevation(lat, lon)\n",
    "    return altitude"
   ]
  },
  {
   "cell_type": "code",
   "execution_count": 35,
   "id": "5a979229-fbc0-4b02-b195-ecec4b391aa0",
   "metadata": {},
   "outputs": [],
   "source": [
    "%%time\n",
    "\n",
    "df_append['altitude'] = df_append.apply(lambda x: altitude_determinant(x['latitude'],x['longitude']), axis=1)\n",
    "df_append.head()"
   ]
  },
  {
   "cell_type": "code",
   "execution_count": 38,
   "id": "0d4b5895-2a67-4b2a-b21c-641fde20c47e",
   "metadata": {},
   "outputs": [],
   "source": [
    "df_append.to_csv('altitude_info.csv', index=False)"
   ]
  },
  {
   "cell_type": "markdown",
   "id": "619b888f-44de-423a-93ea-23a11ae65c5d",
   "metadata": {},
   "source": [
    "## Заполнение таблицы в PostgreSQL"
   ]
  },
  {
   "cell_type": "code",
   "execution_count": 39,
   "id": "ecddb3de-4fc4-4cbf-8fbd-d2e4f52b14b7",
   "metadata": {},
   "outputs": [],
   "source": [
    "from sqlalchemy import create_engine\n",
    "import psycopg2"
   ]
  },
  {
   "cell_type": "code",
   "execution_count": 51,
   "id": "fc8fa21b-1b4d-45f5-b036-b1ca813bc516",
   "metadata": {},
   "outputs": [],
   "source": [
    "# from authentication import LOGIN, PASSWORD, HOST"
   ]
  },
  {
   "cell_type": "code",
   "execution_count": 63,
   "id": "208c4b15-d894-4244-b28f-fcc962ebd616",
   "metadata": {},
   "outputs": [],
   "source": [
    "from auth import LOGIN_PG, PASSWORD_PG, HOST_PG, DATABASE_PG"
   ]
  },
  {
   "cell_type": "code",
   "execution_count": 64,
   "id": "98ff96a4-ac2d-4f2a-9244-1aec453ebc8c",
   "metadata": {},
   "outputs": [
    {
     "data": {
      "text/html": [
       "<div>\n",
       "<style scoped>\n",
       "    .dataframe tbody tr th:only-of-type {\n",
       "        vertical-align: middle;\n",
       "    }\n",
       "\n",
       "    .dataframe tbody tr th {\n",
       "        vertical-align: top;\n",
       "    }\n",
       "\n",
       "    .dataframe thead th {\n",
       "        text-align: right;\n",
       "    }\n",
       "</style>\n",
       "<table border=\"1\" class=\"dataframe\">\n",
       "  <thead>\n",
       "    <tr style=\"text-align: right;\">\n",
       "      <th></th>\n",
       "      <th>latitude</th>\n",
       "      <th>longitude</th>\n",
       "      <th>altitude</th>\n",
       "    </tr>\n",
       "  </thead>\n",
       "  <tbody>\n",
       "    <tr>\n",
       "      <th>0</th>\n",
       "      <td>52.013882</td>\n",
       "      <td>103.964495</td>\n",
       "      <td>766</td>\n",
       "    </tr>\n",
       "    <tr>\n",
       "      <th>1</th>\n",
       "      <td>52.013882</td>\n",
       "      <td>103.965495</td>\n",
       "      <td>765</td>\n",
       "    </tr>\n",
       "    <tr>\n",
       "      <th>2</th>\n",
       "      <td>52.013882</td>\n",
       "      <td>103.966495</td>\n",
       "      <td>765</td>\n",
       "    </tr>\n",
       "    <tr>\n",
       "      <th>3</th>\n",
       "      <td>52.013882</td>\n",
       "      <td>103.967495</td>\n",
       "      <td>762</td>\n",
       "    </tr>\n",
       "    <tr>\n",
       "      <th>4</th>\n",
       "      <td>52.013882</td>\n",
       "      <td>103.968495</td>\n",
       "      <td>750</td>\n",
       "    </tr>\n",
       "  </tbody>\n",
       "</table>\n",
       "</div>"
      ],
      "text/plain": [
       "    latitude   longitude  altitude\n",
       "0  52.013882  103.964495       766\n",
       "1  52.013882  103.965495       765\n",
       "2  52.013882  103.966495       765\n",
       "3  52.013882  103.967495       762\n",
       "4  52.013882  103.968495       750"
      ]
     },
     "execution_count": 64,
     "metadata": {},
     "output_type": "execute_result"
    }
   ],
   "source": [
    "df = df_append.copy()\n",
    "df.head()"
   ]
  },
  {
   "cell_type": "code",
   "execution_count": 67,
   "id": "3782689b-1ace-4296-8bde-372cad57d62c",
   "metadata": {},
   "outputs": [
    {
     "data": {
      "text/html": [
       "<div>\n",
       "<style scoped>\n",
       "    .dataframe tbody tr th:only-of-type {\n",
       "        vertical-align: middle;\n",
       "    }\n",
       "\n",
       "    .dataframe tbody tr th {\n",
       "        vertical-align: top;\n",
       "    }\n",
       "\n",
       "    .dataframe thead th {\n",
       "        text-align: right;\n",
       "    }\n",
       "</style>\n",
       "<table border=\"1\" class=\"dataframe\">\n",
       "  <thead>\n",
       "    <tr style=\"text-align: right;\">\n",
       "      <th></th>\n",
       "      <th>latitude</th>\n",
       "      <th>longitude</th>\n",
       "      <th>altitude</th>\n",
       "      <th>city_name</th>\n",
       "    </tr>\n",
       "  </thead>\n",
       "  <tbody>\n",
       "    <tr>\n",
       "      <th>0</th>\n",
       "      <td>52.013882</td>\n",
       "      <td>103.964495</td>\n",
       "      <td>766</td>\n",
       "      <td>Irkutsk</td>\n",
       "    </tr>\n",
       "    <tr>\n",
       "      <th>1</th>\n",
       "      <td>52.013882</td>\n",
       "      <td>103.965495</td>\n",
       "      <td>765</td>\n",
       "      <td>Irkutsk</td>\n",
       "    </tr>\n",
       "    <tr>\n",
       "      <th>2</th>\n",
       "      <td>52.013882</td>\n",
       "      <td>103.966495</td>\n",
       "      <td>765</td>\n",
       "      <td>Irkutsk</td>\n",
       "    </tr>\n",
       "    <tr>\n",
       "      <th>3</th>\n",
       "      <td>52.013882</td>\n",
       "      <td>103.967495</td>\n",
       "      <td>762</td>\n",
       "      <td>Irkutsk</td>\n",
       "    </tr>\n",
       "    <tr>\n",
       "      <th>4</th>\n",
       "      <td>52.013882</td>\n",
       "      <td>103.968495</td>\n",
       "      <td>750</td>\n",
       "      <td>Irkutsk</td>\n",
       "    </tr>\n",
       "  </tbody>\n",
       "</table>\n",
       "</div>"
      ],
      "text/plain": [
       "    latitude   longitude  altitude city_name\n",
       "0  52.013882  103.964495       766   Irkutsk\n",
       "1  52.013882  103.965495       765   Irkutsk\n",
       "2  52.013882  103.966495       765   Irkutsk\n",
       "3  52.013882  103.967495       762   Irkutsk\n",
       "4  52.013882  103.968495       750   Irkutsk"
      ]
     },
     "execution_count": 67,
     "metadata": {},
     "output_type": "execute_result"
    }
   ],
   "source": [
    "df['city_name'] = 'Irkutsk'\n",
    "df.head()"
   ]
  },
  {
   "cell_type": "code",
   "execution_count": 68,
   "id": "4b878bdc-80ec-4c77-a651-943195468ce6",
   "metadata": {},
   "outputs": [],
   "source": [
    "def authorization_pg():\n",
    "    \"\"\"\n",
    "    Создание коннектора к БД PostgreSQL\n",
    "    \"\"\"\n",
    "    login_name = LOGIN_PG\n",
    "    login_password = PASSWORD_PG\n",
    "    IP = HOST_PG\n",
    "    engine_str = f'postgresql://{login_name}:{login_password}@{IP}:5432/{DATABASE_PG}'\n",
    "    engine = create_engine(engine_str)\n",
    "    return engine\n",
    "\n",
    "def generate():\n",
    "    \"\"\"\n",
    "    Создания словаря для заполнения таблицы в БД PostgreSQL\n",
    "    \"\"\"\n",
    "    d = {\n",
    "        'city_name': df.city_name,\n",
    "        'latitude': df.latitude,\n",
    "        'longitude': df.longitude,\n",
    "        'altitude': df.altitude\n",
    "    }\n",
    "    df_into = pd.DataFrame(data=d)\n",
    "    return df_into\n",
    "\n",
    "def into_pg_table(pg_table_name):\n",
    "    \"\"\"\n",
    "    Помещение данных в БД PostgreSQL\n",
    "    \"\"\"\n",
    "    dataframe = generate()\n",
    "    connector = authorization_pg()\n",
    "    dataframe.to_sql(\n",
    "        name = pg_table_name,\n",
    "        con = connector,\n",
    "        chunksize = 10000,\n",
    "        index = False,\n",
    "        if_exists = 'append'\n",
    "    )"
   ]
  },
  {
   "cell_type": "code",
   "execution_count": 70,
   "id": "2bc36919-5a12-40e1-9e14-5f5267a1e551",
   "metadata": {},
   "outputs": [
    {
     "name": "stdout",
     "output_type": "stream",
     "text": [
      "CPU times: user 9.55 s, sys: 202 ms, total: 9.76 s\n",
      "Wall time: 28.6 s\n"
     ]
    }
   ],
   "source": [
    "%%time\n",
    "into_pg_table('city.topographic_city')"
   ]
  },
  {
   "cell_type": "markdown",
   "id": "9decef8b-c511-4fd5-a477-4c31048adcde",
   "metadata": {},
   "source": [
    "## Отображение на карте гео-информации"
   ]
  },
  {
   "cell_type": "code",
   "execution_count": 181,
   "id": "11de9417-8bf1-4acc-9d6a-0c5c6cc48590",
   "metadata": {},
   "outputs": [
    {
     "name": "stdout",
     "output_type": "stream",
     "text": [
      "User Guide: https://docs.kepler.gl/docs/keplergl-jupyter\n"
     ]
    },
    {
     "data": {
      "application/vnd.jupyter.widget-view+json": {
       "model_id": "93462c45692047db8e917cb51d0739f3",
       "version_major": 2,
       "version_minor": 0
      },
      "text/plain": [
       "KeplerGl(config={'version': 'v1', 'config': {'visState': {'filters': [], 'layers': [{'id': 'prj4oj', 'type': '…"
      ]
     },
     "metadata": {},
     "output_type": "display_data"
    }
   ],
   "source": [
    "with open('config.json') as f:\n",
    "    config = json.load(f)\n",
    "\n",
    "map_1 = KeplerGl()\n",
    "map_1.config = config\n",
    "\n",
    "map_1.add_data(data=df_append, name='9673oreu')\n",
    "\n",
    "map_1"
   ]
  },
  {
   "cell_type": "code",
   "execution_count": null,
   "id": "b8b0b889-f7fb-4b3d-810b-4533c268f6cb",
   "metadata": {},
   "outputs": [],
   "source": []
  },
  {
   "cell_type": "code",
   "execution_count": null,
   "id": "9a50c982-8793-49f3-a2b8-06d8db0abd22",
   "metadata": {},
   "outputs": [],
   "source": []
  }
 ],
 "metadata": {
  "kernelspec": {
   "display_name": "Python 3 (ipykernel)",
   "language": "python",
   "name": "python3"
  },
  "language_info": {
   "codemirror_mode": {
    "name": "ipython",
    "version": 3
   },
   "file_extension": ".py",
   "mimetype": "text/x-python",
   "name": "python",
   "nbconvert_exporter": "python",
   "pygments_lexer": "ipython3",
   "version": "3.9.7"
  }
 },
 "nbformat": 4,
 "nbformat_minor": 5
}
