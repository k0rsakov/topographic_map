{
 "cells": [
  {
   "cell_type": "markdown",
   "id": "e6dffb89-e0de-4095-8796-3d78bcdba132",
   "metadata": {},
   "source": [
    "# Импорт библиотек"
   ]
  },
  {
   "cell_type": "code",
   "execution_count": 14,
   "id": "22f250cd-f37f-4de7-bee2-2ffc84669fbe",
   "metadata": {},
   "outputs": [
    {
     "name": "stdout",
     "output_type": "stream",
     "text": [
      "CGN Airport elevation (meters): 423\n"
     ]
    }
   ],
   "source": [
    "# Импорт библиотеки для работы с json-файлами\n",
    "import json\n",
    "\n",
    "# импортируем библиотеку numpy и pandas\n",
    "import pandas as pd\n",
    "import numpy as np\n",
    "\n",
    "# импортируем библиотеку для работы с картами\n",
    "from keplergl import KeplerGl\n",
    "\n",
    "# импортируем библиотеку для вычисление высоты\n",
    "import srtm"
   ]
  },
  {
   "cell_type": "code",
   "execution_count": 17,
   "id": "104eb35c-51ed-433b-8329-2e334447dce9",
   "metadata": {},
   "outputs": [],
   "source": [
    "# Использовать для вычисления высоты \n",
    "# elevation_data = srtm.get_data()\n",
    "# print('CGN Airport elevation (meters):', elevation_data.get_elevation(52.274269, 104.274618))"
   ]
  },
  {
   "cell_type": "markdown",
   "id": "c4dfe99f-cc48-4d15-87e6-5a2fc8a1b5c9",
   "metadata": {},
   "source": [
    "## Шпаргалка\n",
    "\n",
    "<img src=\"https://ночная.москва/wp-content/uploads/2021/03/geograficheskie-koordinaty-moskvy-rossiya.png\" width=\"50%\" height=\"50%\">"
   ]
  },
  {
   "cell_type": "markdown",
   "id": "4ffe9bca-b71c-471b-a02f-8e2cf4ba6a91",
   "metadata": {},
   "source": [
    "## Координаты вершин полигона г. Иркутск"
   ]
  },
  {
   "cell_type": "code",
   "execution_count": 61,
   "id": "41cd4d91-a41f-4ceb-9a6f-7bdff59a1166",
   "metadata": {},
   "outputs": [],
   "source": [
    "# Границы полигона Иркутска\n",
    "up_left = [52.446093, 103.964495]\n",
    "up_right = [52.446093, 104.802521]\n",
    "\n",
    "down_left = [52.013882, 103.964495]\n",
    "down_right = [52.013882, 104.802521]"
   ]
  },
  {
   "cell_type": "markdown",
   "id": "e38ee841-6e81-4009-bdc1-e9178f8ba051",
   "metadata": {},
   "source": [
    "### Создание `pd.DataFrame` - полигона г. Иркутск "
   ]
  },
  {
   "cell_type": "code",
   "execution_count": null,
   "id": "a31bfc2c-00fd-47eb-a765-bf3a94e35765",
   "metadata": {},
   "outputs": [],
   "source": [
    "coordinates = []\n",
    "\n",
    "coordinates.append(up_left)\n",
    "coordinates.append(up_right)\n",
    "coordinates.append(down_left)\n",
    "coordinates.append(down_right)\n",
    "\n",
    "headers = ['latitude', 'longitude']\n",
    "\n",
    "df_coordinates = pd.DataFrame(coordinates, columns = headers)\n",
    "df_coordinates"
   ]
  },
  {
   "cell_type": "markdown",
   "id": "fd7acc0e-61d2-4769-9f82-4e20077580a9",
   "metadata": {},
   "source": [
    "## Генерация множества координат"
   ]
  },
  {
   "cell_type": "code",
   "execution_count": 176,
   "id": "13be9432-de52-4556-ba71-38697110b522",
   "metadata": {},
   "outputs": [],
   "source": [
    "generated_list_of_latitude = np.arange(down_left[0], up_left[0], 0.001)\n",
    "\n",
    "generated_list_of_longitude = np.arange(up_left[1], up_right[1], 0.001)"
   ]
  },
  {
   "cell_type": "markdown",
   "id": "e4cb45ab-46cf-4a03-a612-aaaad0a77ea7",
   "metadata": {},
   "source": [
    "## Создание `pd.DataFrame` с \"заполнением\" полигона г. Иркутск"
   ]
  },
  {
   "cell_type": "code",
   "execution_count": 180,
   "id": "9f3451bf-aeee-44f1-a955-360630ed7ec9",
   "metadata": {},
   "outputs": [
    {
     "name": "stdout",
     "output_type": "stream",
     "text": [
      "CPU times: user 272 ms, sys: 28.6 ms, total: 301 ms\n",
      "Wall time: 305 ms\n"
     ]
    },
    {
     "data": {
      "text/plain": [
       "(363287, 2)"
      ]
     },
     "execution_count": 180,
     "metadata": {},
     "output_type": "execute_result"
    }
   ],
   "source": [
    "%%time\n",
    "\n",
    "# Создание пустого датафрейма\n",
    "df_append = pd.DataFrame()\n",
    "\n",
    "# Цикл по все показателям широты\n",
    "for lat in range(len(generated_list_of_latitude)):\n",
    "    # Создание словаря с данными. К кажд\n",
    "    data = {\n",
    "        'latitude': generated_list_of_latitude[lat],\n",
    "        'longitude': generated_list_of_longitude\n",
    "    }\n",
    "    \n",
    "    df = pd.DataFrame(data)\n",
    "    \n",
    "    df_append = df_append.append(df)\n",
    "    \n",
    "df_append.shape"
   ]
  },
  {
   "cell_type": "code",
   "execution_count": 148,
   "id": "d407c6be-eecc-49e6-a808-45a6f697f4e5",
   "metadata": {},
   "outputs": [
    {
     "data": {
      "text/plain": [
       "array([52.013882, 52.013891, 52.0139  , 52.013909, 52.013918, 52.013927,\n",
       "       52.013936, 52.013945, 52.013954, 52.013963])"
      ]
     },
     "execution_count": 148,
     "metadata": {},
     "output_type": "execute_result"
    }
   ],
   "source": [
    "df_append.latitude.unique()"
   ]
  },
  {
   "cell_type": "code",
   "execution_count": 102,
   "id": "e266bcb7-3b21-42c6-985d-b3c3e03dde0e",
   "metadata": {},
   "outputs": [
    {
     "data": {
      "text/html": [
       "<div>\n",
       "<style scoped>\n",
       "    .dataframe tbody tr th:only-of-type {\n",
       "        vertical-align: middle;\n",
       "    }\n",
       "\n",
       "    .dataframe tbody tr th {\n",
       "        vertical-align: top;\n",
       "    }\n",
       "\n",
       "    .dataframe thead th {\n",
       "        text-align: right;\n",
       "    }\n",
       "</style>\n",
       "<table border=\"1\" class=\"dataframe\">\n",
       "  <thead>\n",
       "    <tr style=\"text-align: right;\">\n",
       "      <th></th>\n",
       "      <th>latitude</th>\n",
       "      <th>longitude</th>\n",
       "    </tr>\n",
       "  </thead>\n",
       "  <tbody>\n",
       "    <tr>\n",
       "      <th>0</th>\n",
       "      <td>52.446093</td>\n",
       "      <td>103.964495</td>\n",
       "    </tr>\n",
       "    <tr>\n",
       "      <th>1</th>\n",
       "      <td>52.446093</td>\n",
       "      <td>104.802521</td>\n",
       "    </tr>\n",
       "    <tr>\n",
       "      <th>2</th>\n",
       "      <td>52.013882</td>\n",
       "      <td>103.964495</td>\n",
       "    </tr>\n",
       "    <tr>\n",
       "      <th>3</th>\n",
       "      <td>52.013882</td>\n",
       "      <td>104.802521</td>\n",
       "    </tr>\n",
       "  </tbody>\n",
       "</table>\n",
       "</div>"
      ],
      "text/plain": [
       "    latitude   longitude\n",
       "0  52.446093  103.964495\n",
       "1  52.446093  104.802521\n",
       "2  52.013882  103.964495\n",
       "3  52.013882  104.802521"
      ]
     },
     "execution_count": 102,
     "metadata": {},
     "output_type": "execute_result"
    }
   ],
   "source": []
  },
  {
   "cell_type": "code",
   "execution_count": 181,
   "id": "11de9417-8bf1-4acc-9d6a-0c5c6cc48590",
   "metadata": {},
   "outputs": [
    {
     "name": "stdout",
     "output_type": "stream",
     "text": [
      "User Guide: https://docs.kepler.gl/docs/keplergl-jupyter\n"
     ]
    },
    {
     "data": {
      "application/vnd.jupyter.widget-view+json": {
       "model_id": "93462c45692047db8e917cb51d0739f3",
       "version_major": 2,
       "version_minor": 0
      },
      "text/plain": [
       "KeplerGl(config={'version': 'v1', 'config': {'visState': {'filters': [], 'layers': [{'id': 'prj4oj', 'type': '…"
      ]
     },
     "metadata": {},
     "output_type": "display_data"
    }
   ],
   "source": [
    "with open('config.json') as f:\n",
    "    config = json.load(f)\n",
    "\n",
    "map_1 = KeplerGl()\n",
    "map_1.config = config\n",
    "\n",
    "map_1.add_data(data=df_append, name='9673oreu')\n",
    "\n",
    "map_1"
   ]
  },
  {
   "cell_type": "code",
   "execution_count": null,
   "id": "b8b0b889-f7fb-4b3d-810b-4533c268f6cb",
   "metadata": {},
   "outputs": [],
   "source": []
  },
  {
   "cell_type": "code",
   "execution_count": null,
   "id": "9a50c982-8793-49f3-a2b8-06d8db0abd22",
   "metadata": {},
   "outputs": [],
   "source": []
  }
 ],
 "metadata": {
  "kernelspec": {
   "display_name": "Python 3 (ipykernel)",
   "language": "python",
   "name": "python3"
  },
  "language_info": {
   "codemirror_mode": {
    "name": "ipython",
    "version": 3
   },
   "file_extension": ".py",
   "mimetype": "text/x-python",
   "name": "python",
   "nbconvert_exporter": "python",
   "pygments_lexer": "ipython3",
   "version": "3.9.7"
  }
 },
 "nbformat": 4,
 "nbformat_minor": 5
}
