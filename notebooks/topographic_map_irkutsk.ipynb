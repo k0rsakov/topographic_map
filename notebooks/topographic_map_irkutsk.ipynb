{
 "cells": [
  {
   "cell_type": "code",
   "execution_count": 14,
   "id": "22f250cd-f37f-4de7-bee2-2ffc84669fbe",
   "metadata": {},
   "outputs": [
    {
     "name": "stdout",
     "output_type": "stream",
     "text": [
      "CGN Airport elevation (meters): 423\n"
     ]
    }
   ],
   "source": [
    "# Импорт библиотеки для работы с json-файлами\n",
    "import json\n",
    "\n",
    "# импортируем библиотеку numpy и pandas\n",
    "import pandas as pd\n",
    "import numpy as np\n",
    "\n",
    "# импортируем библиотеку для работы с картами\n",
    "from keplergl import KeplerGl\n",
    "\n",
    "# импортируем библиотеку для вычисление высоты\n",
    "import srtm"
   ]
  },
  {
   "cell_type": "code",
   "execution_count": 35,
   "id": "09bf95d1-2e49-4326-9ea6-44652b5d3ab5",
   "metadata": {},
   "outputs": [],
   "source": [
    "# Координаты: [ [ [ 52.4894, 103.878 ], [ 52.0140, 103.900 ], [ 52.0343, 104.724 ], [ 52.5044, 104.707 ], [ 52.4894, 103.878 ] ] ]"
   ]
  },
  {
   "cell_type": "code",
   "execution_count": 15,
   "id": "a567a5c8-95ea-4458-a1fc-5d849fb125a3",
   "metadata": {},
   "outputs": [],
   "source": []
  },
  {
   "cell_type": "code",
   "execution_count": 16,
   "id": "be4e282d-c7af-4ec1-bc54-2f50dedb8c3d",
   "metadata": {},
   "outputs": [],
   "source": []
  },
  {
   "cell_type": "code",
   "execution_count": 17,
   "id": "104eb35c-51ed-433b-8329-2e334447dce9",
   "metadata": {},
   "outputs": [],
   "source": [
    "elevation_data = srtm.get_data()\n",
    "print('CGN Airport elevation (meters):', elevation_data.get_elevation(52.274269, 104.274618))"
   ]
  },
  {
   "cell_type": "code",
   "execution_count": null,
   "id": "6dd10945-626e-46a6-adab-11f9f5e4b468",
   "metadata": {},
   "outputs": [],
   "source": []
  },
  {
   "cell_type": "markdown",
   "id": "c4dfe99f-cc48-4d15-87e6-5a2fc8a1b5c9",
   "metadata": {},
   "source": [
    "<img src=\"https://ночная.москва/wp-content/uploads/2021/03/geograficheskie-koordinaty-moskvy-rossiya.png\"\n",
    "     width=\"100%\" height=\"100%\">"
   ]
  },
  {
   "cell_type": "code",
   "execution_count": 56,
   "id": "41cd4d91-a41f-4ceb-9a6f-7bdff59a1166",
   "metadata": {},
   "outputs": [],
   "source": [
    "up_left = [52.446093, 103.964495]\n",
    "up_right = [52.446093, 104.802521]\n",
    "\n",
    "down_left = [52.013882, 103.964495]\n",
    "down_right = [52.013882, 104.802521]"
   ]
  },
  {
   "cell_type": "code",
   "execution_count": 59,
   "id": "e266bcb7-3b21-42c6-985d-b3c3e03dde0e",
   "metadata": {},
   "outputs": [
    {
     "data": {
      "text/html": [
       "<div>\n",
       "<style scoped>\n",
       "    .dataframe tbody tr th:only-of-type {\n",
       "        vertical-align: middle;\n",
       "    }\n",
       "\n",
       "    .dataframe tbody tr th {\n",
       "        vertical-align: top;\n",
       "    }\n",
       "\n",
       "    .dataframe thead th {\n",
       "        text-align: right;\n",
       "    }\n",
       "</style>\n",
       "<table border=\"1\" class=\"dataframe\">\n",
       "  <thead>\n",
       "    <tr style=\"text-align: right;\">\n",
       "      <th></th>\n",
       "      <th>latitude</th>\n",
       "      <th>longitude</th>\n",
       "    </tr>\n",
       "  </thead>\n",
       "  <tbody>\n",
       "    <tr>\n",
       "      <th>0</th>\n",
       "      <td>52.446093</td>\n",
       "      <td>103.964495</td>\n",
       "    </tr>\n",
       "    <tr>\n",
       "      <th>1</th>\n",
       "      <td>52.446093</td>\n",
       "      <td>104.802521</td>\n",
       "    </tr>\n",
       "    <tr>\n",
       "      <th>2</th>\n",
       "      <td>52.013882</td>\n",
       "      <td>103.964495</td>\n",
       "    </tr>\n",
       "    <tr>\n",
       "      <th>3</th>\n",
       "      <td>52.013882</td>\n",
       "      <td>104.802521</td>\n",
       "    </tr>\n",
       "  </tbody>\n",
       "</table>\n",
       "</div>"
      ],
      "text/plain": [
       "    latitude   longitude\n",
       "0  52.446093  103.964495\n",
       "1  52.446093  104.802521\n",
       "2  52.013882  103.964495\n",
       "3  52.013882  104.802521"
      ]
     },
     "execution_count": 59,
     "metadata": {},
     "output_type": "execute_result"
    }
   ],
   "source": [
    "coordinates = []\n",
    "\n",
    "coordinates.append(up_left)\n",
    "coordinates.append(up_right)\n",
    "coordinates.append(down_left)\n",
    "coordinates.append(down_right)\n",
    "\n",
    "headers = ['latitude', 'longitude']\n",
    "\n",
    "df = pd.DataFrame(coordinates, columns = headers)\n",
    "df"
   ]
  },
  {
   "cell_type": "code",
   "execution_count": 60,
   "id": "11de9417-8bf1-4acc-9d6a-0c5c6cc48590",
   "metadata": {},
   "outputs": [
    {
     "name": "stdout",
     "output_type": "stream",
     "text": [
      "User Guide: https://docs.kepler.gl/docs/keplergl-jupyter\n"
     ]
    },
    {
     "data": {
      "application/vnd.jupyter.widget-view+json": {
       "model_id": "9a1c0ca0d85f4f6d9e0d0ccb6b3f3b3a",
       "version_major": 2,
       "version_minor": 0
      },
      "text/plain": [
       "KeplerGl(config={'version': 'v1', 'config': {'visState': {'filters': [], 'layers': [{'id': 'prj4oj', 'type': '…"
      ]
     },
     "metadata": {},
     "output_type": "display_data"
    }
   ],
   "source": [
    "with open('config.json') as f:\n",
    "    config = json.load(f)\n",
    "\n",
    "map_1 = KeplerGl()\n",
    "map_1.config = config\n",
    "\n",
    "map_1.add_data(data=df, name='9673oreu')\n",
    "\n",
    "map_1"
   ]
  },
  {
   "cell_type": "code",
   "execution_count": null,
   "id": "b8b0b889-f7fb-4b3d-810b-4533c268f6cb",
   "metadata": {},
   "outputs": [],
   "source": []
  },
  {
   "cell_type": "code",
   "execution_count": null,
   "id": "9a50c982-8793-49f3-a2b8-06d8db0abd22",
   "metadata": {},
   "outputs": [],
   "source": []
  }
 ],
 "metadata": {
  "kernelspec": {
   "display_name": "Python 3 (ipykernel)",
   "language": "python",
   "name": "python3"
  },
  "language_info": {
   "codemirror_mode": {
    "name": "ipython",
    "version": 3
   },
   "file_extension": ".py",
   "mimetype": "text/x-python",
   "name": "python",
   "nbconvert_exporter": "python",
   "pygments_lexer": "ipython3",
   "version": "3.9.7"
  }
 },
 "nbformat": 4,
 "nbformat_minor": 5
}
